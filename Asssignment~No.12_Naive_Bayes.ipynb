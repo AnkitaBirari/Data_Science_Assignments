{
  "nbformat": 4,
  "nbformat_minor": 0,
  "metadata": {
    "colab": {
      "provenance": []
    },
    "kernelspec": {
      "name": "python3",
      "display_name": "Python 3"
    },
    "language_info": {
      "name": "python"
    }
  },
  "cells": [
    {
      "cell_type": "code",
      "execution_count": null,
      "metadata": {
        "id": "Wu_d1qraG-uv"
      },
      "outputs": [],
      "source": [
        "# import libraries\n",
        "import numpy as np\n",
        "import pandas as pd\n",
        "import matplotlib.pyplot as plt"
      ]
    },
    {
      "cell_type": "code",
      "source": [
        "salary_train=pd.read_csv(\"/content/SalaryData_Train.csv.txt\")"
      ],
      "metadata": {
        "id": "8QrNed3uHYbY"
      },
      "execution_count": null,
      "outputs": []
    },
    {
      "cell_type": "code",
      "source": [
        "salary_test=pd.read_csv(\"/content/SalaryData_Test.csv\")"
      ],
      "metadata": {
        "id": "N6wf-HpfHfZA"
      },
      "execution_count": null,
      "outputs": []
    },
    {
      "cell_type": "code",
      "source": [
        "salary_train.columns\n",
        "salary_test.columns"
      ],
      "metadata": {
        "colab": {
          "base_uri": "https://localhost:8080/"
        },
        "id": "EyR-L4_CLZZx",
        "outputId": "69b353b3-cd76-4f1d-ad3d-94736ce6e455"
      },
      "execution_count": null,
      "outputs": [
        {
          "output_type": "execute_result",
          "data": {
            "text/plain": [
              "Index(['age', 'workclass', 'education', 'educationno', 'maritalstatus',\n",
              "       'occupation', 'relationship', 'race', 'sex', 'capitalgain',\n",
              "       'capitalloss', 'hoursperweek', 'native', 'Salary'],\n",
              "      dtype='object')"
            ]
          },
          "metadata": {},
          "execution_count": 45
        }
      ]
    },
    {
      "cell_type": "code",
      "source": [
        "salary_train.shape"
      ],
      "metadata": {
        "colab": {
          "base_uri": "https://localhost:8080/"
        },
        "id": "ttwBAU81Lc43",
        "outputId": "7b86bd45-97bb-44ab-fadf-c4dd969b61bf"
      },
      "execution_count": null,
      "outputs": [
        {
          "output_type": "execute_result",
          "data": {
            "text/plain": [
              "(22988, 14)"
            ]
          },
          "metadata": {},
          "execution_count": 46
        }
      ]
    },
    {
      "cell_type": "code",
      "source": [
        "salary_test.shape"
      ],
      "metadata": {
        "colab": {
          "base_uri": "https://localhost:8080/"
        },
        "id": "sixPR2cJLft8",
        "outputId": "59743efb-9256-432c-8e2d-8870454737dd"
      },
      "execution_count": null,
      "outputs": [
        {
          "output_type": "execute_result",
          "data": {
            "text/plain": [
              "(15060, 14)"
            ]
          },
          "metadata": {},
          "execution_count": 47
        }
      ]
    },
    {
      "cell_type": "code",
      "source": [
        "salary_train.info()"
      ],
      "metadata": {
        "colab": {
          "base_uri": "https://localhost:8080/"
        },
        "id": "47DBGa3yLjWc",
        "outputId": "578acba1-5534-40cc-e764-7c889e69f42c"
      },
      "execution_count": null,
      "outputs": [
        {
          "output_type": "stream",
          "name": "stdout",
          "text": [
            "<class 'pandas.core.frame.DataFrame'>\n",
            "RangeIndex: 22988 entries, 0 to 22987\n",
            "Data columns (total 14 columns):\n",
            " #   Column         Non-Null Count  Dtype  \n",
            "---  ------         --------------  -----  \n",
            " 0   age            22988 non-null  int64  \n",
            " 1   workclass      22988 non-null  object \n",
            " 2   education      22988 non-null  object \n",
            " 3   educationno    22987 non-null  float64\n",
            " 4   maritalstatus  22987 non-null  object \n",
            " 5   occupation     22987 non-null  object \n",
            " 6   relationship   22987 non-null  object \n",
            " 7   race           22987 non-null  object \n",
            " 8   sex            22987 non-null  object \n",
            " 9   capitalgain    22987 non-null  float64\n",
            " 10  capitalloss    22987 non-null  float64\n",
            " 11  hoursperweek   22987 non-null  float64\n",
            " 12  native         22987 non-null  object \n",
            " 13  Salary         22987 non-null  object \n",
            "dtypes: float64(4), int64(1), object(9)\n",
            "memory usage: 2.5+ MB\n"
          ]
        }
      ]
    },
    {
      "cell_type": "code",
      "source": [
        "salary_train1 = salary_train.dropna()"
      ],
      "metadata": {
        "id": "Piq1gMxtOI9u"
      },
      "execution_count": null,
      "outputs": []
    },
    {
      "cell_type": "code",
      "source": [
        "salary_test.info()"
      ],
      "metadata": {
        "colab": {
          "base_uri": "https://localhost:8080/"
        },
        "id": "35uq6v7PLqfF",
        "outputId": "0ba15aa4-6486-450b-80c5-cd67e4de2646"
      },
      "execution_count": null,
      "outputs": [
        {
          "output_type": "stream",
          "name": "stdout",
          "text": [
            "<class 'pandas.core.frame.DataFrame'>\n",
            "RangeIndex: 15060 entries, 0 to 15059\n",
            "Data columns (total 14 columns):\n",
            " #   Column         Non-Null Count  Dtype \n",
            "---  ------         --------------  ----- \n",
            " 0   age            15060 non-null  int64 \n",
            " 1   workclass      15060 non-null  object\n",
            " 2   education      15060 non-null  object\n",
            " 3   educationno    15060 non-null  int64 \n",
            " 4   maritalstatus  15060 non-null  object\n",
            " 5   occupation     15060 non-null  object\n",
            " 6   relationship   15060 non-null  object\n",
            " 7   race           15060 non-null  object\n",
            " 8   sex            15060 non-null  object\n",
            " 9   capitalgain    15060 non-null  int64 \n",
            " 10  capitalloss    15060 non-null  int64 \n",
            " 11  hoursperweek   15060 non-null  int64 \n",
            " 12  native         15060 non-null  object\n",
            " 13  Salary         15060 non-null  object\n",
            "dtypes: int64(5), object(9)\n",
            "memory usage: 1.6+ MB\n"
          ]
        }
      ]
    },
    {
      "cell_type": "code",
      "source": [
        "salary_test1 = salary_test.dropna()"
      ],
      "metadata": {
        "id": "x8WNbr93OiHd"
      },
      "execution_count": null,
      "outputs": []
    },
    {
      "cell_type": "code",
      "source": [
        "string_columns=['workclass','education','maritalstatus','occupation','relationship','race','sex','native']"
      ],
      "metadata": {
        "id": "wb-nyqlZLyqU"
      },
      "execution_count": null,
      "outputs": []
    },
    {
      "cell_type": "code",
      "source": [
        "from sklearn import preprocessing\n",
        "import warnings\n",
        "warnings.filterwarnings(\"ignore\")\n",
        "label_encoder=preprocessing.LabelEncoder()\n",
        "for i in string_columns:\n",
        "    salary_train1[i]=label_encoder.fit_transform(salary_train1[i])\n",
        "    salary_test1[i]=label_encoder.fit_transform(salary_test1[i])"
      ],
      "metadata": {
        "id": "30aiCfsgL3vW"
      },
      "execution_count": null,
      "outputs": []
    },
    {
      "cell_type": "code",
      "source": [
        "col_names=list(salary_train.columns)\n",
        "train_X=salary_train1[col_names[0:13]]\n",
        "train_Y=salary_train1[col_names[13]]\n",
        "test_x=salary_test1[col_names[0:13]]\n",
        "test_y=salary_test1[col_names[13]]"
      ],
      "metadata": {
        "id": "XCE3hviDMG2m"
      },
      "execution_count": null,
      "outputs": []
    },
    {
      "cell_type": "code",
      "source": [
        "#Gaussian Naive Bayes\n",
        "from sklearn.naive_bayes import GaussianNB\n",
        "Gmodel=GaussianNB()\n",
        "train_pred_gau=Gmodel.fit(train_X,train_Y).predict(train_X)\n",
        "test_pred_gau=Gmodel.fit(train_X,train_Y).predict(test_x)\n",
        "train_acc_gau=np.mean(train_pred_gau==train_Y)\n",
        "test_acc_gau=np.mean(test_pred_gau==test_y)\n",
        "train_acc_gau#0.795\n",
        "test_acc_gau#0.794"
      ],
      "metadata": {
        "colab": {
          "base_uri": "https://localhost:8080/"
        },
        "id": "7xr9V0R-MHlc",
        "outputId": "7a510391-0b02-475d-dc90-746d9165f865"
      },
      "execution_count": null,
      "outputs": [
        {
          "output_type": "execute_result",
          "data": {
            "text/plain": [
              "0.7967463479415671"
            ]
          },
          "metadata": {},
          "execution_count": 55
        }
      ]
    },
    {
      "cell_type": "code",
      "source": [
        "#Multinomial Naive Bayes\n",
        "from sklearn.naive_bayes import MultinomialNB\n",
        "Mmodel=MultinomialNB()\n",
        "train_pred_multi=Mmodel.fit(train_X,train_Y).predict(train_X)\n",
        "test_pred_multi=Mmodel.fit(train_X,train_Y).predict(test_x)\n",
        "train_acc_multi=np.mean(train_pred_multi==train_Y)\n",
        "test_acc_multi=np.mean(test_pred_multi==test_y)\n",
        "train_acc_multi#0.772\n",
        "test_acc_multi#0.774"
      ],
      "metadata": {
        "colab": {
          "base_uri": "https://localhost:8080/"
        },
        "id": "gY5gBHFKMMMO",
        "outputId": "2cae7a6a-76a2-4e11-c2af-bd82c7bf050c"
      },
      "execution_count": null,
      "outputs": [
        {
          "output_type": "execute_result",
          "data": {
            "text/plain": [
              "0.7749667994687915"
            ]
          },
          "metadata": {},
          "execution_count": 56
        }
      ]
    },
    {
      "cell_type": "code",
      "source": [],
      "metadata": {
        "id": "xmsTZ1CmNurF"
      },
      "execution_count": null,
      "outputs": []
    },
    {
      "cell_type": "code",
      "source": [],
      "metadata": {
        "id": "vogcePydQESy"
      },
      "execution_count": null,
      "outputs": []
    }
  ]
}